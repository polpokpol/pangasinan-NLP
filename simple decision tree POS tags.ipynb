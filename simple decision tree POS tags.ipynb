{
 "cells": [
  {
   "cell_type": "code",
   "execution_count": 1,
   "metadata": {},
   "outputs": [],
   "source": [
    "import numpy as np\n",
    "import matplotlib.pyplot as plt\n",
    "import pandas as pd"
   ]
  },
  {
   "cell_type": "code",
   "execution_count": 2,
   "metadata": {},
   "outputs": [],
   "source": [
    "# Importing the dataset\n",
    "dataset = pd.read_csv('sample_words.csv')\n",
    "X = dataset.iloc[:, 1:2].values\n",
    "y = dataset.iloc[:, 2].values"
   ]
  },
  {
   "cell_type": "code",
   "execution_count": 3,
   "metadata": {},
   "outputs": [
    {
     "data": {
      "text/html": [
       "<div>\n",
       "<style scoped>\n",
       "    .dataframe tbody tr th:only-of-type {\n",
       "        vertical-align: middle;\n",
       "    }\n",
       "\n",
       "    .dataframe tbody tr th {\n",
       "        vertical-align: top;\n",
       "    }\n",
       "\n",
       "    .dataframe thead th {\n",
       "        text-align: right;\n",
       "    }\n",
       "</style>\n",
       "<table border=\"1\" class=\"dataframe\">\n",
       "  <thead>\n",
       "    <tr style=\"text-align: right;\">\n",
       "      <th></th>\n",
       "      <th>Salary</th>\n",
       "    </tr>\n",
       "  </thead>\n",
       "  <tbody>\n",
       "    <tr>\n",
       "      <th>0</th>\n",
       "      <td>4</td>\n",
       "    </tr>\n",
       "    <tr>\n",
       "      <th>1</th>\n",
       "      <td>2</td>\n",
       "    </tr>\n",
       "    <tr>\n",
       "      <th>2</th>\n",
       "      <td>4</td>\n",
       "    </tr>\n",
       "    <tr>\n",
       "      <th>3</th>\n",
       "      <td>1</td>\n",
       "    </tr>\n",
       "    <tr>\n",
       "      <th>4</th>\n",
       "      <td>1</td>\n",
       "    </tr>\n",
       "  </tbody>\n",
       "</table>\n",
       "</div>"
      ],
      "text/plain": [
       "   Salary\n",
       "0       4\n",
       "1       2\n",
       "2       4\n",
       "3       1\n",
       "4       1"
      ]
     },
     "execution_count": 3,
     "metadata": {},
     "output_type": "execute_result"
    }
   ],
   "source": [
    "dataset.iloc[:, 1:2] # original\n",
    "dataset.iloc[:, 2:3].head()"
   ]
  },
  {
   "cell_type": "code",
   "execution_count": 4,
   "metadata": {},
   "outputs": [
    {
     "data": {
      "text/plain": [
       "0    1\n",
       "1    2\n",
       "2    3\n",
       "3    4\n",
       "4    5\n",
       "Name: Level, dtype: int64"
      ]
     },
     "execution_count": 4,
     "metadata": {},
     "output_type": "execute_result"
    }
   ],
   "source": [
    "dataset.iloc[:, 2] # original\n",
    "dataset.iloc[:, 1].head()"
   ]
  },
  {
   "cell_type": "code",
   "execution_count": 5,
   "metadata": {},
   "outputs": [],
   "source": [
    "from sklearn.model_selection import train_test_split"
   ]
  },
  {
   "cell_type": "code",
   "execution_count": 6,
   "metadata": {},
   "outputs": [],
   "source": [
    "X_train, X_test, y_train, y_test = train_test_split(X, y, test_size = 0, random_state = 2)"
   ]
  },
  {
   "cell_type": "code",
   "execution_count": 7,
   "metadata": {},
   "outputs": [
    {
     "data": {
      "text/plain": [
       "50"
      ]
     },
     "execution_count": 7,
     "metadata": {},
     "output_type": "execute_result"
    }
   ],
   "source": [
    "len(X_train)"
   ]
  },
  {
   "cell_type": "code",
   "execution_count": 8,
   "metadata": {},
   "outputs": [
    {
     "data": {
      "text/plain": [
       "DecisionTreeClassifier(class_weight=None, criterion='gini', max_depth=None,\n",
       "            max_features=None, max_leaf_nodes=None,\n",
       "            min_impurity_decrease=0.0, min_impurity_split=None,\n",
       "            min_samples_leaf=1, min_samples_split=2,\n",
       "            min_weight_fraction_leaf=0.0, presort=False, random_state=None,\n",
       "            splitter='best')"
      ]
     },
     "execution_count": 8,
     "metadata": {},
     "output_type": "execute_result"
    }
   ],
   "source": [
    "from sklearn.tree import DecisionTreeClassifier\n",
    "regressor = DecisionTreeClassifier()\n",
    "regressor.fit(X_train, y_train)"
   ]
  },
  {
   "cell_type": "code",
   "execution_count": 9,
   "metadata": {},
   "outputs": [
    {
     "data": {
      "text/html": [
       "<div>\n",
       "<style scoped>\n",
       "    .dataframe tbody tr th:only-of-type {\n",
       "        vertical-align: middle;\n",
       "    }\n",
       "\n",
       "    .dataframe tbody tr th {\n",
       "        vertical-align: top;\n",
       "    }\n",
       "\n",
       "    .dataframe thead th {\n",
       "        text-align: right;\n",
       "    }\n",
       "</style>\n",
       "<table border=\"1\" class=\"dataframe\">\n",
       "  <thead>\n",
       "    <tr style=\"text-align: right;\">\n",
       "      <th></th>\n",
       "      <th>Position</th>\n",
       "      <th>Level</th>\n",
       "      <th>Salary</th>\n",
       "      <th>yeah</th>\n",
       "    </tr>\n",
       "  </thead>\n",
       "  <tbody>\n",
       "    <tr>\n",
       "      <th>0</th>\n",
       "      <td>abaguey</td>\n",
       "      <td>1</td>\n",
       "      <td>4</td>\n",
       "      <td>NOUN</td>\n",
       "    </tr>\n",
       "    <tr>\n",
       "      <th>1</th>\n",
       "      <td>abaingan</td>\n",
       "      <td>2</td>\n",
       "      <td>2</td>\n",
       "      <td>ADVERB</td>\n",
       "    </tr>\n",
       "    <tr>\n",
       "      <th>2</th>\n",
       "      <td>abala</td>\n",
       "      <td>3</td>\n",
       "      <td>4</td>\n",
       "      <td>NOUN</td>\n",
       "    </tr>\n",
       "    <tr>\n",
       "      <th>3</th>\n",
       "      <td>abalang</td>\n",
       "      <td>4</td>\n",
       "      <td>1</td>\n",
       "      <td>ADJECTIVE</td>\n",
       "    </tr>\n",
       "    <tr>\n",
       "      <th>4</th>\n",
       "      <td>abalaten</td>\n",
       "      <td>5</td>\n",
       "      <td>1</td>\n",
       "      <td>ADJECTIVE</td>\n",
       "    </tr>\n",
       "  </tbody>\n",
       "</table>\n",
       "</div>"
      ],
      "text/plain": [
       "   Position  Level  Salary       yeah\n",
       "0   abaguey      1       4       NOUN\n",
       "1  abaingan      2       2     ADVERB\n",
       "2     abala      3       4       NOUN\n",
       "3   abalang      4       1  ADJECTIVE\n",
       "4  abalaten      5       1  ADJECTIVE"
      ]
     },
     "execution_count": 9,
     "metadata": {},
     "output_type": "execute_result"
    }
   ],
   "source": [
    "dataset.head()"
   ]
  },
  {
   "cell_type": "code",
   "execution_count": 10,
   "metadata": {},
   "outputs": [
    {
     "data": {
      "text/plain": [
       "['abaguey',\n",
       " 'abaingan',\n",
       " 'abala',\n",
       " 'abalang',\n",
       " 'abalaten',\n",
       " 'baloto',\n",
       " 'balsa',\n",
       " 'balsig-en',\n",
       " 'banaoang',\n",
       " 'bancay',\n",
       " 'dalan',\n",
       " 'dalang',\n",
       " 'dalao-en',\n",
       " 'dalapdap',\n",
       " 'dalayap',\n",
       " 'espiritu',\n",
       " 'estainpa',\n",
       " 'etab',\n",
       " 'eyag',\n",
       " 'eyagon',\n",
       " 'ingen',\n",
       " 'inglit',\n",
       " 'inglit-en',\n",
       " 'inkianacl',\n",
       " 'Inkianac',\n",
       " 'labi',\n",
       " 'labinuda',\n",
       " 'labirl',\n",
       " 'lacap-en',\n",
       " 'laco',\n",
       " 'Jugan-en',\n",
       " 'bumoloto',\n",
       " 'loto(man)',\n",
       " 'bunec',\n",
       " 'lupa',\n",
       " 'maampog',\n",
       " 'maanos',\n",
       " 'na-aoang',\n",
       " 'maatap',\n",
       " 'mababig',\n",
       " 'naoguip',\n",
       " 'naonor',\n",
       " 'napera',\n",
       " 'napgaan',\n",
       " 'napia',\n",
       " 'panagaralan',\n",
       " 'panagdalus',\n",
       " 'panaggaoa',\n",
       " 'panagpicasid-talintao',\n",
       " 'panamag']"
      ]
     },
     "execution_count": 10,
     "metadata": {},
     "output_type": "execute_result"
    }
   ],
   "source": [
    "dictionary = []\n",
    "for i in range(len(dataset)):\n",
    "    dictionary.append(dataset['Position'][i])\n",
    "dictionary"
   ]
  },
  {
   "cell_type": "code",
   "execution_count": 11,
   "metadata": {},
   "outputs": [
    {
     "data": {
      "text/plain": [
       "array([4, 4, 5, 1, 1, 4, 1, 4, 1, 4, 4, 4, 4, 5, 5, 4, 4, 4, 4, 1, 5, 4,\n",
       "       5, 2, 5, 1, 1, 5, 1, 4, 1, 4, 1, 3, 1, 1, 4, 1, 4, 4, 5, 4, 1, 4,\n",
       "       1, 5, 4, 4, 4, 2])"
      ]
     },
     "execution_count": 11,
     "metadata": {},
     "output_type": "execute_result"
    }
   ],
   "source": [
    "# regressor.predict([X_train,], [y_train,])\n",
    "\n",
    "y_train\n",
    "\n",
    "# pos_tracker = int(y_pred[0])\n",
    "# pos_tracker\n",
    "# int(regressor.predict(X_train[[2]]))"
   ]
  },
  {
   "cell_type": "code",
   "execution_count": 12,
   "metadata": {},
   "outputs": [
    {
     "name": "stdout",
     "output_type": "stream",
     "text": [
      "[]\n"
     ]
    }
   ],
   "source": [
    "# regressor.predict(X_train)\n",
    "bitch = []\n",
    "a = sorted(X_train)\n",
    "for i in a:\n",
    "    bitch + i\n",
    "#     print(i)\n",
    "print(bitch)\n"
   ]
  },
  {
   "cell_type": "code",
   "execution_count": 13,
   "metadata": {},
   "outputs": [
    {
     "name": "stdout",
     "output_type": "stream",
     "text": [
      "[[37]]\n",
      "[[1]]\n"
     ]
    }
   ],
   "source": [
    "print(X_train[[0]])\n",
    "b = [[int(a[0])]]\n",
    "print(b)\n",
    "# sdfg = []\n",
    "# sdfg.append(a[[0]])\n",
    "# sdfg"
   ]
  },
  {
   "cell_type": "code",
   "execution_count": 14,
   "metadata": {},
   "outputs": [
    {
     "name": "stdout",
     "output_type": "stream",
     "text": [
      "abaguey __ NOUN\n",
      "abaingan __ ADVERB\n",
      "abala __ NOUN\n",
      "abalang __ ADJECTIVE\n",
      "abalaten __ ADJECTIVE\n",
      "baloto __ NOUN\n",
      "balsa __ NOUN\n",
      "balsig-en __ VERB\n",
      "banaoang __ NOUN\n",
      "bancay __ ADJECTIVE\n",
      "dalan __ NOUN\n",
      "dalang __ ADJECTIVE\n",
      "dalao-en __ VERB\n",
      "dalapdap __ ADJECTIVE\n",
      "dalayap __ ADJECTIVE\n",
      "espiritu __ NOUN\n",
      "estainpa __ NOUN\n",
      "etab __ NOUN\n",
      "eyag __ NOUN\n",
      "eyagon __ VERB\n",
      "ingen __ CONJUNCTION\n",
      "inglit __ NOUN\n",
      "inglit-en __ VERB\n",
      "inkianacl __ NOUN\n",
      "Inkianac __ NOUN\n",
      "labi __ NOUN\n",
      "labinuda __ ADJECTIVE\n",
      "labirl __ VERB\n",
      "lacap-en __ VERB\n",
      "laco __ VERB\n",
      "Jugan-en __ VERB\n",
      "bumoloto __ NOUN\n",
      "loto(man) __ VERB\n",
      "bunec __ NOUN\n",
      "lupa __ NOUN\n",
      "maampog __ ADJECTIVE\n",
      "maanos __ NOUN\n",
      "na-aoang __ ADJECTIVE\n",
      "maatap __ ADJECTIVE\n",
      "mababig __ ADJECTIVE\n",
      "naoguip __ ADVERB\n",
      "naonor __ ADJECTIVE\n",
      "napera __ ADJECTIVE\n",
      "napgaan __ ADJECTIVE\n",
      "napia __ ADJECTIVE\n",
      "panagaralan __ NOUN\n",
      "panagdalus __ NOUN\n",
      "panaggaoa __ NOUN\n",
      "panagpicasid-talintao __ NOUN\n",
      "panamag __ NOUN\n"
     ]
    }
   ],
   "source": [
    "bruha_deleche = {1: \"ADJECTIVE\", 2: \"ADVERB\", 3: \"CONJUNCTION\", 4: \"NOUN\",\n",
    "                5: \"VERB\", 6: \"PREPOSITION\", 7: \"INTERJECTION\", 8: \"PRONOUN\"}\n",
    "lol = ''\n",
    "for i in dataset['Position']:\n",
    "    lol = i\n",
    "    sentence_storage = lol.split()\n",
    "   \n",
    "    for i in range(len(sentence_storage)):\n",
    "    \n",
    "        for ii in range(len(dataset)):\n",
    "\n",
    "            if sentence_storage[i] == dataset['Position'][ii]:\n",
    "                y_pred = int(regressor.predict([[int(a[ii])]]))\n",
    "                \n",
    "                    \n",
    "                pos_tracker = y_pred\n",
    "                the_meaning_of_life =  bruha_deleche[pos_tracker]\n",
    "                print(dataset['Position'][ii], \"__\" , the_meaning_of_life)\n",
    "\n",
    "            if sentence_storage[i] not in dictionary:\n",
    "                print(sentence_storage[i], \"__\" , \"none\")\n",
    "                break\n",
    "            "
   ]
  },
  {
   "cell_type": "code",
   "execution_count": null,
   "metadata": {},
   "outputs": [],
   "source": []
  },
  {
   "cell_type": "code",
   "execution_count": 15,
   "metadata": {},
   "outputs": [],
   "source": [
    "lol = \"baloto dasfdg mcrey espiritu , ingen laplap napia\"\n",
    "sentence_storage = lol.split()"
   ]
  },
  {
   "cell_type": "code",
   "execution_count": 16,
   "metadata": {},
   "outputs": [
    {
     "name": "stdout",
     "output_type": "stream",
     "text": [
      "baloto __ NOUN\n",
      "dasfdg __ none\n",
      "mcrey __ none\n",
      "espiritu __ NOUN\n",
      ", __ none\n",
      "ingen __ CONJUNCTION\n",
      "laplap __ none\n",
      "napia __ ADJECTIVE\n"
     ]
    }
   ],
   "source": [
    "bruha_deleche = {1: \"ADJECTIVE\", 2: \"ADVERB\", 3: \"CONJUNCTION\", 4: \"NOUN\",\n",
    "                5: \"VERB\", 6: \"PREPOSITION\", 7: \"INTERJECTION\", 8: \"PRONOUN\"}\n",
    "\n",
    "for i in range(len(sentence_storage)):\n",
    "    for ii in range(len(dataset)):\n",
    "    \n",
    "        if sentence_storage[i] == dataset['Position'][ii]:\n",
    "            y_pred = int(regressor.predict([[int(a[ii])]]))\n",
    "                \n",
    "                    \n",
    "            pos_tracker = y_pred\n",
    "            the_meaning_of_life =  bruha_deleche[pos_tracker]\n",
    "            print(dataset['Position'][ii], \"__\" , the_meaning_of_life)\n",
    "            \n",
    "        if sentence_storage[i] not in dictionary:\n",
    "            print(sentence_storage[i], \"__\" , \"none\")\n",
    "            break"
   ]
  },
  {
   "cell_type": "code",
   "execution_count": 17,
   "metadata": {},
   "outputs": [],
   "source": [
    "accu_train = np.sum(regressor.predict(X_train) == y_train) / (float(y_train.size))"
   ]
  },
  {
   "cell_type": "code",
   "execution_count": 18,
   "metadata": {},
   "outputs": [
    {
     "data": {
      "text/plain": [
       "1.0"
      ]
     },
     "execution_count": 18,
     "metadata": {},
     "output_type": "execute_result"
    }
   ],
   "source": [
    "accu_train"
   ]
  },
  {
   "cell_type": "code",
   "execution_count": 33,
   "metadata": {},
   "outputs": [
    {
     "data": {
      "image/png": "[encoded data removed]",
      "text/plain": [
       "<Figure size 432x288 with 1 Axes>"
      ]
     },
     "metadata": {
      "needs_background": "light"
     },
     "output_type": "display_data"
    }
   ],
   "source": [
    "X_grid = np.arange(min(X_train), max(X_train), 0.01)\n",
    "X_grid = X_grid.reshape((len(X_grid), 1))\n",
    "plt.scatter(X_train, y_train, color = 'red')\n",
    "plt.plot(X_grid, regressor.predict(X_grid), color = 'blue')\n",
    "plt.title('100% Accurate')\n",
    "plt.xlabel('words')\n",
    "plt.ylabel('parts of speech')\n",
    "plt.show()"
   ]
  },
  {
   "cell_type": "code",
   "execution_count": 20,
   "metadata": {},
   "outputs": [
    {
     "data": {
      "text/plain": [
       "<module 'matplotlib.pyplot' from '/home/ec2-user/anaconda3/lib/python3.7/site-packages/matplotlib/pyplot.py'>"
      ]
     },
     "execution_count": 20,
     "metadata": {},
     "output_type": "execute_result"
    }
   ],
   "source": [
    "plt"
   ]
  },
  {
   "cell_type": "code",
   "execution_count": 21,
   "metadata": {},
   "outputs": [
    {
     "data": {
      "text/plain": [
       "array([4, 4, 5, 1, 1, 4, 1, 4, 1, 4, 4, 4, 4, 5, 5, 4, 4, 4, 4, 1, 5, 4,\n",
       "       5, 2, 5, 1, 1, 5, 1, 4, 1, 4, 1, 3, 1, 1, 4, 1, 4, 4, 5, 4, 1, 4,\n",
       "       1, 5, 4, 4, 4, 2])"
      ]
     },
     "execution_count": 21,
     "metadata": {},
     "output_type": "execute_result"
    }
   ],
   "source": [
    "y_train"
   ]
  },
  {
   "cell_type": "code",
   "execution_count": 22,
   "metadata": {},
   "outputs": [
    {
     "data": {
      "text/plain": [
       "array([[37],\n",
       "       [48],\n",
       "       [29],\n",
       "       [10],\n",
       "       [14],\n",
       "       [ 1],\n",
       "       [45],\n",
       "       [47],\n",
       "       [40],\n",
       "       [24],\n",
       "       [25],\n",
       "       [49],\n",
       "       [18],\n",
       "       [13],\n",
       "       [28],\n",
       "       [34],\n",
       "       [17],\n",
       "       [ 3],\n",
       "       [26],\n",
       "       [15],\n",
       "       [31],\n",
       "       [ 6],\n",
       "       [33],\n",
       "       [ 2],\n",
       "       [30],\n",
       "       [36],\n",
       "       [42],\n",
       "       [20],\n",
       "       [38],\n",
       "       [11],\n",
       "       [ 5],\n",
       "       [ 7],\n",
       "       [ 4],\n",
       "       [21],\n",
       "       [27],\n",
       "       [39],\n",
       "       [22],\n",
       "       [43],\n",
       "       [32],\n",
       "       [35],\n",
       "       [ 8],\n",
       "       [50],\n",
       "       [12],\n",
       "       [19],\n",
       "       [44],\n",
       "       [23],\n",
       "       [ 9],\n",
       "       [46],\n",
       "       [16],\n",
       "       [41]])"
      ]
     },
     "execution_count": 22,
     "metadata": {},
     "output_type": "execute_result"
    }
   ],
   "source": [
    "X_train"
   ]
  },
  {
   "cell_type": "code",
   "execution_count": 23,
   "metadata": {},
   "outputs": [],
   "source": [
    "# regressor.predict([[ii]]) == y_train\n",
    "tryy = []\n",
    "tryy.append(regressor.predict([[0]]))\n",
    "tryy.append(regressor.predict([[1]]))"
   ]
  },
  {
   "cell_type": "code",
   "execution_count": 24,
   "metadata": {},
   "outputs": [
    {
     "data": {
      "text/plain": [
       "[array([4]), array([4])]"
      ]
     },
     "execution_count": 24,
     "metadata": {},
     "output_type": "execute_result"
    }
   ],
   "source": [
    "tryy"
   ]
  },
  {
   "cell_type": "code",
   "execution_count": 25,
   "metadata": {},
   "outputs": [
    {
     "name": "stdout",
     "output_type": "stream",
     "text": [
      "4\n",
      "4\n"
     ]
    }
   ],
   "source": [
    "for i in tryy:\n",
    "    print(i[0])"
   ]
  },
  {
   "cell_type": "code",
   "execution_count": 26,
   "metadata": {},
   "outputs": [
    {
     "data": {
      "text/plain": [
       "array([4, 4, 5, 1, 1, 4, 1, 4, 1, 4, 4, 4, 4, 5, 5, 4, 4, 4, 4, 1, 5, 4,\n",
       "       5, 2, 5, 1, 1, 5, 1, 4, 1, 4, 1, 3, 1, 1, 4, 1, 4, 4, 5, 4, 1, 4,\n",
       "       1, 5, 4, 4, 4, 2])"
      ]
     },
     "execution_count": 26,
     "metadata": {},
     "output_type": "execute_result"
    }
   ],
   "source": [
    "y_train"
   ]
  },
  {
   "cell_type": "code",
   "execution_count": 27,
   "metadata": {},
   "outputs": [],
   "source": [
    "latlat = []\n",
    "for i in y_train:\n",
    "    latlat.append(i)\n",
    "    "
   ]
  },
  {
   "cell_type": "code",
   "execution_count": 28,
   "metadata": {},
   "outputs": [],
   "source": [
    "latlat1 = []\n",
    "for i in X_train:\n",
    "    latlat1.append(i[0])\n",
    "#     print(i[0])"
   ]
  },
  {
   "cell_type": "code",
   "execution_count": 29,
   "metadata": {},
   "outputs": [
    {
     "data": {
      "text/plain": [
       "[4,\n",
       " 4,\n",
       " 5,\n",
       " 1,\n",
       " 1,\n",
       " 4,\n",
       " 1,\n",
       " 4,\n",
       " 1,\n",
       " 4,\n",
       " 4,\n",
       " 4,\n",
       " 4,\n",
       " 5,\n",
       " 5,\n",
       " 4,\n",
       " 4,\n",
       " 4,\n",
       " 4,\n",
       " 1,\n",
       " 5,\n",
       " 4,\n",
       " 5,\n",
       " 2,\n",
       " 5,\n",
       " 1,\n",
       " 1,\n",
       " 5,\n",
       " 1,\n",
       " 4,\n",
       " 1,\n",
       " 4,\n",
       " 1,\n",
       " 3,\n",
       " 1,\n",
       " 1,\n",
       " 4,\n",
       " 1,\n",
       " 4,\n",
       " 4,\n",
       " 5,\n",
       " 4,\n",
       " 1,\n",
       " 4,\n",
       " 1,\n",
       " 5,\n",
       " 4,\n",
       " 4,\n",
       " 4,\n",
       " 2]"
      ]
     },
     "execution_count": 29,
     "metadata": {},
     "output_type": "execute_result"
    }
   ],
   "source": [
    "latlat"
   ]
  },
  {
   "cell_type": "code",
   "execution_count": 30,
   "metadata": {},
   "outputs": [],
   "source": [
    "jakjak = {}\n",
    "jakjak[2] = 12\n",
    "jakjak[1] = 12\n",
    "jakjak[321] = 321\n",
    "jakjak[345] = 12534\n",
    "jakjak[9] = 1654"
   ]
  },
  {
   "cell_type": "code",
   "execution_count": 31,
   "metadata": {},
   "outputs": [
    {
     "data": {
      "text/plain": [
       "[1, 2, 9, 321, 345]"
      ]
     },
     "execution_count": 31,
     "metadata": {},
     "output_type": "execute_result"
    }
   ],
   "source": [
    "sorted(jakjak)"
   ]
  },
  {
   "cell_type": "code",
   "execution_count": 32,
   "metadata": {},
   "outputs": [
    {
     "data": {
      "text/plain": [
       "12"
      ]
     },
     "execution_count": 32,
     "metadata": {},
     "output_type": "execute_result"
    }
   ],
   "source": [
    "jakjak[1]"
   ]
  },
  {
   "cell_type": "code",
   "execution_count": null,
   "metadata": {},
   "outputs": [],
   "source": []
  }
 ],
 "metadata": {
  "kernelspec": {
   "display_name": "Python 3",
   "language": "python",
   "name": "python3"
  },
  "language_info": {
   "codemirror_mode": {
    "name": "ipython",
    "version": 3
   },
   "file_extension": ".py",
   "mimetype": "text/x-python",
   "name": "python",
   "nbconvert_exporter": "python",
   "pygments_lexer": "ipython3",
   "version": "3.7.1"
  }
 },
 "nbformat": 4,
 "nbformat_minor": 2
}
